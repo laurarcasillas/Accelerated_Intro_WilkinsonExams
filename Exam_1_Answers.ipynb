{
 "cells": [
  {
   "cell_type": "markdown",
   "metadata": {},
   "source": [
    "### PROBLEM 2\n"
   ]
  },
  {
   "cell_type": "code",
   "execution_count": null,
   "metadata": {},
   "outputs": [],
   "source": [
    "#list the directory\n",
    "ls -lh"
   ]
  },
  {
   "cell_type": "markdown",
   "metadata": {},
   "source": [
    " In order to create a directory listing that fulfill all the questions asked, I listed them with the previous code where:\n",
    "\n",
    "-l : list the content of the directory.\n",
    "\n",
    "-h: human readable-size. This includes the file-size in Mb or Kb (depends on their size).\n",
    "\n",
    " \n",
    " The file \"Locus_Germplasm_Phenotype_20130122.txt\" has this permissions:\n",
    " 1. Users: they have permissions to read and write, but they do not have permission to execute.\n",
    " 2. Groups: they have the same permissions as users. They can write and read, but they can not execute.\n",
    " 3. Anyone: they only have permission to read the file, but they can not write or execute it."
   ]
  },
  {
   "cell_type": "markdown",
   "metadata": {},
   "source": [
    "### PROBLEM 3"
   ]
  },
  {
   "cell_type": "code",
   "execution_count": null,
   "metadata": {},
   "outputs": [],
   "source": [
    "echo \"This is the file header:\"\n",
    "echo \"\"\n",
    "head -1 Locus_Germplasm_Phenotype_20130122.txt\n"
   ]
  },
  {
   "cell_type": "markdown",
   "metadata": {},
   "source": [
    "To show just the header of the file I used the previous command, in which **\"head -1 Locus_Germplasm_Phenotype_20130122.txt\"** only shows the first line of that file."
   ]
  },
  {
   "cell_type": "markdown",
   "metadata": {},
   "source": [
    "### PROBLEM 4"
   ]
  },
  {
   "cell_type": "code",
   "execution_count": null,
   "metadata": {},
   "outputs": [],
   "source": [
    "echo \"The total number of lines in the file is: \"\n",
    "echo \"\"\n",
    "\n",
    "cat Locus_Germplasm_Phenotype_20130122.txt | wc -l"
   ]
  },
  {
   "cell_type": "markdown",
   "metadata": {},
   "source": [
    "In order to count the number of lines of a file it is necessary to use the wc command. \n",
    "\n",
    "* **cat Locus_Germplasm_Phenotype_20130122.txt | wc -l**: this command allows to count every line in the file we are displaying, that it is \"Locus_Germplasm_Phenotype_20130122.txt\".\n"
   ]
  },
  {
   "cell_type": "markdown",
   "metadata": {},
   "source": [
    "### PROBLEM 5"
   ]
  },
  {
   "cell_type": "code",
   "execution_count": null,
   "metadata": {},
   "outputs": [],
   "source": [
    "#First I create the new file without the header\n",
    "\n",
    "tail +2 Locus_Germplasm_Phenotype_20130122.txt > Data_Only.csv\n",
    "\n",
    "#Then prove the output file has the expected number of lines:\n",
    "\n",
    "echo \"The new file Data_Only.csv number of lines is: \"\n",
    "\n",
    "cat Data_Only.csv | wc -l"
   ]
  },
  {
   "cell_type": "markdown",
   "metadata": {},
   "source": [
    "-First of all, I create the new file without the header:\n",
    "\n",
    "* **tail +2 Locus_Germplasm_Phenotype_20130122.txt** : when the sign changes from \"-\" to \"+\", the command \"tail\" will show from the line you ask until the end. In this case, tail is followed by \"+2\", so the output will display all the lines from the second one to the end, excluding in this case the first line that corresponds to the header of the file.\n",
    "\n",
    "* **> Data_Only.csv** : this stores all the lines selected before (without the header) in the new file \"Data_Only.csv\".\n",
    "\n",
    "\n",
    "-Then, I prove that the output file has the number of lines that I expected:\n",
    "\n",
    "* **cat Data_Only.csv | wc -l** : this command counts how many lines the file \"Data_Only.csv\" have.\n",
    "\n",
    "\n",
    "-The total number of lines in the \"Locus_Germplasm_Phenotype_20130122.txt\" is 7216 and that includes the header. This new file, \"Data_Only.csv\", has 7215 which means that it has one less row than the original one which I expected because I removed the header."
   ]
  },
  {
   "cell_type": "markdown",
   "metadata": {},
   "source": [
    "### PROBLEM 6"
   ]
  },
  {
   "cell_type": "code",
   "execution_count": null,
   "metadata": {},
   "outputs": [],
   "source": [
    "# Find the word \"root\" in the file\n",
    "grep -i \"root\" Locus_Germplasm_Phenotype_20130122.txt \n",
    " "
   ]
  },
  {
   "cell_type": "markdown",
   "metadata": {},
   "source": [
    "According to problem 6, I have to find all the entries that include the word \"root\" in phenotype. Taking a look into the file, I found that that word could only be found in that column and because it is asked to find the ones that includes that word, I consider also all the words that includes \"root\" such as roots, rooted, ...:\n",
    "\n",
    "* **grep -i \"root\" Locus_Germplasm_Phenotype_20130122.txt** : this command search for the word \"root\" and it could be followed by another letter, \",\", \".\", \"-\" or any other character. I added the \"-i\" command so it is insensitive to case.\n"
   ]
  },
  {
   "cell_type": "markdown",
   "metadata": {},
   "source": [
    "### PROBLEM 7"
   ]
  },
  {
   "cell_type": "code",
   "execution_count": null,
   "metadata": {},
   "outputs": [],
   "source": [
    "# Store the first column of those entries that contains the word \"root\" in phenotype\n",
    "grep -i \"root\" Locus_Germplasm_Phenotype_20130122.txt | cut -f 1 | grep -E \"[A,a][T,t][1-5][G,g][0-9]{5}\" > Root-associated-Loci.txt\n"
   ]
  },
  {
   "cell_type": "markdown",
   "metadata": {},
   "source": [
    "The first column in this file have the AGI Locus Code, but not every entry have the correct structure for an AGI (i.e. At5G22934). \n",
    "\n",
    "This is the reason why I used the previous command which means:\n",
    "\n",
    "* **grep -i \"root\" Locus_Germplasm_Phenotype_20130122.txt** : this command was used and explained in problem 6. It selects just the lines that contains the word \"root\" in phenotype.\n",
    "* **cut -f 1**: this command, which is joined to the previous one by a pipe, cut the first column of the lines that were selected before. The rest of columns now dissapear.\n",
    "* **grep -E \"[A,a][T,t][1-5][G,g][0-9]{5}\"** : this command, also joined to the two previous ones by a pipe, is used to store just the Agi Locus Code structure that is correct. It means: \"A\" or \"a\", followed by a \"T\" or \"t\", followed by one number from 1 to 5, followed by a \"G\" or \"g\" and then followed by 5 numbers from 0 to 9.\n",
    "\n",
    "These AGI were stored in the new file \"Root-associated-Loci.txt\", using \">\" to redirect the information to that file."
   ]
  },
  {
   "cell_type": "markdown",
   "metadata": {},
   "source": [
    "### PROBLEM 8"
   ]
  },
  {
   "cell_type": "code",
   "execution_count": null,
   "metadata": {},
   "outputs": [],
   "source": [
    "# Store the column PubMed ID in a new file.\n",
    "grep -i \"root\" Locus_Germplasm_Phenotype_20130122.txt | cut -f 4 > Root-associated-Publications.txt\n"
   ]
  },
  {
   "cell_type": "markdown",
   "metadata": {},
   "source": [
    "According to problem 8, I want to collect the PubMed ID for every line that contains the word \"root\" in phenotype. The way I did this was:\n",
    "\n",
    "* **grep -i \"root\" Locus_Germplasm_Phenotype_20130122.txt** : search the word \"root\" in phenotype. It is the same command used in problems 6 and 7.\n",
    "* **cut -f 4** : this command, joined by a pipe with the last one, cuts the 4th column of the lines selected. This column is the one that contains the PubMed ID that I want to store in a new file.\n",
    "\n",
    "These numbers were stored in the file \"Root-associated-Publications.txt\", using \">\" to redirect the information to that file."
   ]
  },
  {
   "cell_type": "markdown",
   "metadata": {},
   "source": [
    "### PROBLEM 9"
   ]
  },
  {
   "cell_type": "code",
   "execution_count": null,
   "metadata": {
    "scrolled": true
   },
   "outputs": [],
   "source": [
    "#Chromosome 1: search for the number that indicates is chromosome 1 and count how many\n",
    "#of them includes the word \"root\" in phenotype.\n",
    "\n",
    "echo \"The number of genes associated with root in chromosome 1 are: \"\n",
    "grep -i -E \"[A,a][T,t]1[G,g][0-9]{5}\" Root-associated-Loci.txt | wc -l\n",
    "grep -i -E \"[A,a][T,t]1[G,g][0-9]{5}\" Root-associated-Loci.txt | head\n",
    "echo \"\"\n",
    "\n",
    "#Chromosome 2: search for the number that indicates is chromosome 1 and count how many\n",
    "#of them includes the word \"root\" in phenotype.\n",
    "\n",
    "echo \"The number of genes associated with root in chromosome 2 are: \"\n",
    "grep -E \"[A,a][T,t]2[G,g][0-9]{5}\" Root-associated-Loci.txt | wc -l\n",
    "grep -i -E \"[A,a][T,t]2[G,g][0-9]{5}\" Root-associated-Loci.txt | head\n",
    "echo \"\"\n",
    "\n",
    "#Chromosome 3: search for the number that indicates is chromosome 1 and count how many\n",
    "#of them includes the word \"root\" in phenotype.\n",
    "\n",
    "echo \"The number of genes associated with root in chromosome 3 are: \"\n",
    "grep -E \"[A,a][T,t]3[G,g][0-9]{5}\" Root-associated-Loci.txt | wc -l\n",
    "grep -i -E \"[A,a][T,t]3[G,g][0-9]{5}\" Root-associated-Loci.txt | head\n",
    "echo \"\"\n",
    "\n",
    "\n",
    "#Chromosome 4: search for the number that indicates is chromosome 1 and count how many\n",
    "#of them includes the word \"root\" in phenotype.\n",
    "\n",
    "echo \"The number of genes associated with root in chromosome 4 are: \"\n",
    "grep -E \"[A,a][T,t]4[G,g][0-9]{5}\" Root-associated-Loci.txt |wc -l\n",
    "grep -i -E \"[A,a][T,t]4[G,g][0-9]{5}\" Root-associated-Loci.txt | head\n",
    "echo \"\"\n",
    "\n",
    "#Chromosome 5: search for the number that indicates is chromosome 1 and count how many\n",
    "#of them includes the word \"root\" in phenotype.\n",
    "\n",
    "echo \"The number of genes associated with root in chromosome 5 are: \"\n",
    "grep -E \"[A,a][T,t]5[G,g][0-9]{5}\" Root-associated-Loci.txt | wc -l\n",
    "grep -i -E \"[A,a][T,t]5[G,g][0-9]{5}\" Root-associated-Loci.txt |head"
   ]
  },
  {
   "cell_type": "markdown",
   "metadata": {},
   "source": [
    "In this problem I prove that the output in the file Root-associated-Loci.txt is correct and that you can find genes associated with roots in every chromosome. I used 5 commands to prove it.\n",
    "\n",
    "* **grep -E \"[A,a][T,t]1[G,g][0-9]{5}\" Root-associated-Loci.txt |wc -l** : this command searches for the AGI Locus Code for every chromosome (it changes \"1\" between [T,t] and [G,g] for 2,3,4 and 5) on the file I extracted in problem 7. After that, it counts how many of them are in that file.\n",
    "\n",
    "I also used another 5 commands to show that I was searching for the correct chromosomes, but I just display the first 10, so the answer is not too long:\n",
    "* **grep -i -E \"[A,a][T,t]1[G,g][0-9]{5}\" Root-associated-Loci.txt |head** : this command I used after the previous one is to show these AGI Locus Code. It also changes from 1 to 5 the number between [T,t] and [G,g].\n",
    "\n",
    "The solution shows that genes associated with roots can be found in every chromosome, so the hypothesis is true.\n"
   ]
  },
  {
   "cell_type": "markdown",
   "metadata": {},
   "source": [
    "### PROBLEM 10\n",
    "\n",
    "In problem 9 I found genes in every chromosome."
   ]
  }
 ],
 "metadata": {
  "kernelspec": {
   "display_name": "Bash",
   "language": "bash",
   "name": "bash"
  },
  "language_info": {
   "codemirror_mode": "shell",
   "file_extension": ".sh",
   "mimetype": "text/x-sh",
   "name": "bash"
  }
 },
 "nbformat": 4,
 "nbformat_minor": 2
}
